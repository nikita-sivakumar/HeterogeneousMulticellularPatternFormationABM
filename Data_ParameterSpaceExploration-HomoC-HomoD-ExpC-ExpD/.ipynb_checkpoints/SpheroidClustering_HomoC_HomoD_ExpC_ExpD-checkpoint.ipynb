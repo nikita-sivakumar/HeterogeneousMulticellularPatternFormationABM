{
 "cells": [
  {
   "cell_type": "code",
   "execution_count": 1,
   "metadata": {},
   "outputs": [],
   "source": [
    "import pandas as pd\n",
    "import numpy as np\n",
    "from os import listdir\n",
    "from matplotlib import image\n",
    "import PIL\n",
    "from PIL import Image\n",
    "from sklearn.preprocessing import StandardScaler\n",
    "from sklearn.cluster import KMeans\n",
    "import matplotlib.pyplot as plt\n",
    "from sklearn.cluster import AgglomerativeClustering"
   ]
  },
  {
   "cell_type": "code",
   "execution_count": 2,
   "metadata": {},
   "outputs": [
    {
     "data": {
      "text/plain": [
       "(6816, 40)"
      ]
     },
     "execution_count": 2,
     "metadata": {},
     "output_type": "execute_result"
    }
   ],
   "source": [
    "X = []\n",
    "X = pd.read_excel('features_spheroids.xlsx')\n",
    "X.shape"
   ]
  },
  {
   "cell_type": "code",
   "execution_count": 3,
   "metadata": {},
   "outputs": [
    {
     "data": {
      "text/plain": [
       "Index(['file-path', 'homo_c', 'homo_d', 'exp_c', 'exp_d', 'a-count', 'b-count',\n",
       "       'c-color-count', 'c-express-count', 'd-color-count', 'd-express-count',\n",
       "       'cell-count', 'num_green_regions', 'num_lone_green_regions',\n",
       "       'green_avg_regionArea_fract', 'green_area_fract', 'green_avg_cent_dist',\n",
       "       'green_region_width', 'green_region_height',\n",
       "       'green_region_aspect_ratio', 'green_region_circularity',\n",
       "       'num_red_regions', 'num_red_lone', 'red_avg_regionArea_fract',\n",
       "       'red_area_fract', 'red_avg_cent_dist', 'red_region_width',\n",
       "       'red_region_height', 'red_region_aspect_ratio',\n",
       "       'red_region_circularity', 'green_red_centroid_dist',\n",
       "       'green_region_avg_red_contig', 'red_region_avg_green_contig',\n",
       "       'green_red_contig_dif', 'num_blue_regions', 'num_blue_lone',\n",
       "       'blue_avg_regionArea_fract', 'blue_area_fract', 'blue_avg_cent_dist',\n",
       "       'contiguous_area'],\n",
       "      dtype='object')"
      ]
     },
     "execution_count": 3,
     "metadata": {},
     "output_type": "execute_result"
    }
   ],
   "source": [
    "X.columns"
   ]
  },
  {
   "cell_type": "code",
   "execution_count": 4,
   "metadata": {},
   "outputs": [],
   "source": [
    "features = [\"num_green_regions\",\"num_red_regions\",\n",
    "            \"green_avg_cent_dist\",\"green_avg_regionArea_fract\",\"num_lone_green_regions\",\"green_region_circularity\",\n",
    "            \"red_avg_cent_dist\",\"red_avg_regionArea_fract\",\"num_red_lone\",\"red_region_circularity\",\n",
    "            \"green_red_contig_dif\",\"contiguous_area\"]"
   ]
  },
  {
   "cell_type": "code",
   "execution_count": 5,
   "metadata": {},
   "outputs": [],
   "source": [
    "scaler = StandardScaler()\n",
    "X[features] = scaler.fit_transform(X[features])"
   ]
  },
  {
   "cell_type": "code",
   "execution_count": 6,
   "metadata": {},
   "outputs": [],
   "source": [
    "inertia=[]\n",
    "for i in range(2,15):\n",
    "    kmeans = KMeans(n_clusters=i, random_state=0,n_init=25).fit(\n",
    "        X[features])\n",
    "    inertia.append(kmeans.inertia_)"
   ]
  },
  {
   "cell_type": "code",
   "execution_count": 7,
   "metadata": {},
   "outputs": [
    {
     "data": {
      "text/plain": [
       "[<matplotlib.lines.Line2D at 0x120376a20>]"
      ]
     },
     "execution_count": 7,
     "metadata": {},
     "output_type": "execute_result"
    },
    {
     "data": {
      "image/png": "[encoded data removed]",
      "text/plain": [
       "<Figure size 432x288 with 1 Axes>"
      ]
     },
     "metadata": {
      "needs_background": "light"
     },
     "output_type": "display_data"
    }
   ],
   "source": [
    "plt.plot(inertia)"
   ]
  },
  {
   "cell_type": "code",
   "execution_count": null,
   "metadata": {},
   "outputs": [],
   "source": [
    "kmeans = KMeans(n_clusters=7, random_state=0,n_init=25).fit(\n",
    "        X[features])"
   ]
  },
  {
   "cell_type": "code",
   "execution_count": null,
   "metadata": {},
   "outputs": [],
   "source": [
    "kmeans.cluster_centers_"
   ]
  },
  {
   "cell_type": "code",
   "execution_count": null,
   "metadata": {},
   "outputs": [],
   "source": [
    "scaler.inverse_transform(kmeans.cluster_centers_)"
   ]
  },
  {
   "cell_type": "code",
   "execution_count": null,
   "metadata": {},
   "outputs": [],
   "source": [
    "import random\n",
    "import matplotlib.pyplot as plt\n",
    "X[\"label\"] = kmeans.labels_\n",
    "fig=plt.figure(figsize=(20,10))\n",
    "c = 0\n",
    "for i in range(7):\n",
    "    group = X[X[\"label\"] == i]\n",
    "    group_sample=random.sample(list(group[\"file-path\"]),20)    \n",
    "    for j in group_sample:\n",
    "        c = c+1\n",
    "        img = Image.open(j)\n",
    "        rgb = img.convert('RGB')\n",
    "        fig.add_subplot(10, 20, c)\n",
    "        plt.imshow(rgb)"
   ]
  },
  {
   "cell_type": "markdown",
   "metadata": {},
   "source": [
    "# Clustering only the 100,100 Data"
   ]
  },
  {
   "cell_type": "code",
   "execution_count": null,
   "metadata": {},
   "outputs": [],
   "source": [
    "X_subset = X[(X[\"homo_c\"] == 100) & (X[\"homo_d\"] == 100)]"
   ]
  }
 ],
 "metadata": {
  "kernelspec": {
   "display_name": "Python 3",
   "language": "python",
   "name": "python3"
  },
  "language_info": {
   "codemirror_mode": {
    "name": "ipython",
    "version": 3
   },
   "file_extension": ".py",
   "mimetype": "text/x-python",
   "name": "python",
   "nbconvert_exporter": "python",
   "pygments_lexer": "ipython3",
   "version": "3.7.3"
  }
 },
 "nbformat": 4,
 "nbformat_minor": 2
}
